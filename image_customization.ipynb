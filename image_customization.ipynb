{
 "cells": [
  {
   "cell_type": "code",
   "execution_count": null,
   "metadata": {},
   "outputs": [],
   "source": [
    "import numpy as np\n",
    "import cv2\n",
    "import matplotlib.pyplot as plt\n",
    "print('Give the path of Image: \\n')\n",
    "path_of_file = input()\n",
    "image_input = cv2.imread(path_of_file)\n",
    "try:\n",
    "    # Image path: /home/musfiq/Public/codebase/assets/test.jpeg\n",
    "    print\n",
    "    cv2.imshow(\"Preview\", image_input)\n",
    "except Exception as ex:\n",
    "    print(ex)\n",
    "    print('File Not Found')\n",
    "cv2.waitKey(0)\n",
    "cv2.destroyAllWindows()\n",
    "cv2.waitKey(1)\n",
    "print('it is working')\n"
   ]
  }
 ],
 "metadata": {
  "kernelspec": {
   "display_name": "Python 3",
   "language": "python",
   "name": "python3"
  },
  "language_info": {
   "codemirror_mode": {
    "name": "ipython",
    "version": 3
   },
   "file_extension": ".py",
   "mimetype": "text/x-python",
   "name": "python",
   "nbconvert_exporter": "python",
   "pygments_lexer": "ipython3",
   "version": "3.7.6-final"
  }
 },
 "nbformat": 4,
 "nbformat_minor": 2
}