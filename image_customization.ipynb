{
 "cells": [
  {
   "cell_type": "code",
   "execution_count": null,
   "metadata": {},
   "outputs": [],
   "source": [
    "import numpy as np\n",
    "import cv2 as cv\n",
    "import matplotlib.pyplot as plt\n",
    "\n",
    "def close_window():\n",
    "    cv.destroyAllWindows()\n",
    "    cv.waitKey(1)\n",
    "\n",
    "\n",
    "if __name__ == \"__main__\":\n",
    "    print('Give the path of Image: \\n')\n",
    "    path_of_file = input()\n",
    "    # Read an image file using OpenCV\n",
    "    img_inp = cv.imread(path_of_file)\n",
    "    #If we want to read the image in gray scale mode use the following command\n",
    "    #cv.imread(path_of_file, cv.IMREAD_GRAYSCALE)\n",
    "\n",
    "    #Converting colored image to grey scale\n",
    "    gray_img = cv.cvtColor(img_inp, cv.COLOR_BGR2GRAY)\n",
    "    while True:\n",
    "        print(\"\"\"\n",
    "        Instruction:\n",
    "        Show Main & Greyscale Image **ENTER 1**\n",
    "        Dynamically Change Thresohlding **ENTER 2**\n",
    "        Exit the Instruction Process **ENTER 0**\n",
    "        \"\"\")\n",
    "        close_window()\n",
    "        close_window()\n",
    "        inp_ins = int(input())\n",
    "        try:\n",
    "            if inp_ins == 1:\n",
    "                #Displaying the Main and Grayscale Image\n",
    "                cv.imshow('Main Image', img_inp)\n",
    "                cv.imshow('Gray Scale Image', gray_img)\n",
    "                cv.waitKey(0)\n",
    "                close_window()\n",
    "            elif inp_ins == 2:\n",
    "                #Applying Binary Thresholding\n",
    "                print('Please enter Binary Thresholding value')\n",
    "                thres_value = int(input())\n",
    "                ret, thres = cv.threshold(gray_img,thres_value,255,cv.THRESH_BINARY)\n",
    "                cv.imshow('Binary Image',thres)\n",
    "                cv.waitKey(0)\n",
    "                close_window()\n",
    "            elif inp_ins == 0:\n",
    "                break\n",
    "        except Exception as ex:\n",
    "            print('Error Occurred')\n",
    "            print(ex)\n",
    "    print('Application is closing')"
   ]
  }
 ],
 "metadata": {
  "kernelspec": {
   "display_name": "Python 3",
   "language": "python",
   "name": "python3"
  },
  "language_info": {
   "codemirror_mode": {
    "name": "ipython",
    "version": 3
   },
   "file_extension": ".py",
   "mimetype": "text/x-python",
   "name": "python",
   "nbconvert_exporter": "python",
   "pygments_lexer": "ipython3",
   "version": "3.7.6-final"
  }
 },
 "nbformat": 4,
 "nbformat_minor": 2
}