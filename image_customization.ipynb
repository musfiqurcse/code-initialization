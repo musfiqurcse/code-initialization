{
 "cells": [
  {
   "cell_type": "code",
   "execution_count": null,
   "metadata": {},
   "outputs": [],
   "source": [
    "import numpy as np\n",
    "import cv2\n",
    "import matplotlib.pyplot as plt\n",
    "print('Give the path of Image: \\n')\n",
    "path_of_file = input()\n",
    "image_input = cv2.imread(path_of_file)\n",
    "# try:\n",
    "#     # Image path: /home/musfiq/Public/codebase/assets/test.jpeg\n",
    "#     print\n",
    "#     cv2.imshow(\"Preview\", image_input)\n",
    "# except Exception as ex:\n",
    "#     print(ex)\n",
    "#     print('File Not Found')\n",
    "# cv2.waitKey(0)\n",
    "# cv2.destroyAllWindows()\n",
    "# cv2.waitKey(1)\n",
    "while True:\n",
    "    \"\"\"\n",
    "    Instruction:\n",
    "    Show Only Greyscale **ENTER 1**\n",
    "    Dynamically Change Thresohlding **ENTER 2**\n",
    "    \"\"\"\n",
    "    print(\"\"\"\n",
    "    Instruction:\n",
    "    Show Only Greyscale **ENTER 1**\n",
    "    Dynamically Change Thresohlding **ENTER 2**\n",
    "    \"\"\")\n",
    "    input_inst = int(input())\n",
    "    if input_inst == 1:\n",
    "        grey_scale_image = cv2.cvtColor(image_input, cv2.COLOR_BGR2GRAY)\n",
    "        cv2.imshow('Main Image', image_input)\n",
    "        cv2.imshow('Grey Scale Image', grey_scale_image)\n",
    "        cv2.waitKey(0)\n",
    "    elif input_inst == 0:\n",
    "        cv2.destroyAllWindows()\n",
    "        cv2.waitKey(1)\n",
    "        break"
   ]
  }
 ],
 "metadata": {
  "kernelspec": {
   "display_name": "Python 3",
   "language": "python",
   "name": "python3"
  },
  "language_info": {
   "codemirror_mode": {
    "name": "ipython",
    "version": 3
   },
   "file_extension": ".py",
   "mimetype": "text/x-python",
   "name": "python",
   "nbconvert_exporter": "python",
   "pygments_lexer": "ipython3",
   "version": "3.7.6-final"
  }
 },
 "nbformat": 4,
 "nbformat_minor": 2
}